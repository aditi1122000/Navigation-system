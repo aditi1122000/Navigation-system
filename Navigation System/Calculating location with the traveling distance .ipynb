{
 "cells": [
  {
   "cell_type": "code",
   "execution_count": 5,
   "metadata": {},
   "outputs": [
    {
     "data": {
      "text/html": [
       "<div>\n",
       "<style scoped>\n",
       "    .dataframe tbody tr th:only-of-type {\n",
       "        vertical-align: middle;\n",
       "    }\n",
       "\n",
       "    .dataframe tbody tr th {\n",
       "        vertical-align: top;\n",
       "    }\n",
       "\n",
       "    .dataframe thead th {\n",
       "        text-align: right;\n",
       "    }\n",
       "</style>\n",
       "<table border=\"1\" class=\"dataframe\">\n",
       "  <thead>\n",
       "    <tr style=\"text-align: right;\">\n",
       "      <th></th>\n",
       "      <th>City</th>\n",
       "    </tr>\n",
       "  </thead>\n",
       "  <tbody>\n",
       "    <tr>\n",
       "      <th>0</th>\n",
       "      <td>Kota, Rajasthan</td>\n",
       "    </tr>\n",
       "    <tr>\n",
       "      <th>1</th>\n",
       "      <td>Hanumangarh, Rajasthan</td>\n",
       "    </tr>\n",
       "    <tr>\n",
       "      <th>2</th>\n",
       "      <td>Delhi NCR</td>\n",
       "    </tr>\n",
       "    <tr>\n",
       "      <th>3</th>\n",
       "      <td>Mumbai, Maharashtra</td>\n",
       "    </tr>\n",
       "  </tbody>\n",
       "</table>\n",
       "</div>"
      ],
      "text/plain": [
       "                     City\n",
       "0         Kota, Rajasthan\n",
       "1  Hanumangarh, Rajasthan\n",
       "2               Delhi NCR\n",
       "3     Mumbai, Maharashtra"
      ]
     },
     "execution_count": 5,
     "metadata": {},
     "output_type": "execute_result"
    }
   ],
   "source": [
    "#This code gives breif information for finding latitude and longitude for specific region and also finding distance travelled \n",
    "\n",
    "# Import packages   \n",
    "import pandas as pd  \n",
    "import numpy as np \n",
    "    \n",
    "# Define a dictionary containing  data\n",
    "data = {'City': ['Kota, Rajasthan',\n",
    "               'Hanumangarh, Rajasthan',\n",
    "               'Delhi NCR',\n",
    "               'Mumbai, Maharashtra']}  \n",
    "    \n",
    "# Convert the dictionary into DataFrame  \n",
    "df = pd.DataFrame(data)  \n",
    "    \n",
    "# Observe the result  \n",
    "df  "
   ]
  },
  {
   "cell_type": "code",
   "execution_count": 6,
   "metadata": {},
   "outputs": [],
   "source": [
    "#using special python libraries for finding location\n",
    "from geopy.exc import GeocoderTimedOut \n",
    "from geopy.geocoders import Nominatim \n",
    "   \n",
    "# declare an empty list to store \n",
    "# latitude and longitude of values  \n",
    "# of city column \n",
    "longitude = [] \n",
    "latitude = [] \n",
    "   \n",
    "# function to find the coordinate \n",
    "# of a given city  \n",
    "def findGeocode(city): \n",
    "       \n",
    "    # try and catch is used to overcome \n",
    "    # the exception thrown by geolocator \n",
    "    # using geocodertimedout   \n",
    "    try: \n",
    "          \n",
    "        # Specify the user_agent as your \n",
    "        # app name it should not be none \n",
    "        geolocator = Nominatim(user_agent=\"GPS\") \n",
    "          \n",
    "        return geolocator.geocode(city) \n",
    "      \n",
    "    except GeocoderTimedOut: \n",
    "          \n",
    "        return findGeocode(city)     \n",
    "  \n",
    "# each value from city column \n",
    "# will be fetched and sent to \n",
    "# function find_geocode    \n",
    "for i in (df[\"City\"]): \n",
    "      \n",
    "    if findGeocode(i) != None: \n",
    "           \n",
    "        loc = findGeocode(i) \n",
    "          \n",
    "        # coordinates returned from  \n",
    "        # function is stored into \n",
    "        # two separate list \n",
    "        latitude.append(loc.latitude) \n",
    "        longitude.append(loc.longitude) \n",
    "       \n",
    "    # if coordinate for a city not \n",
    "    # found, insert \"NaN\" indicating  \n",
    "    # missing value  \n",
    "    else: \n",
    "        latitude.append(np.nan) \n",
    "        longitude.append(np.nan)\n",
    "        \n",
    "findGeocode(data)"
   ]
  },
  {
   "cell_type": "code",
   "execution_count": 7,
   "metadata": {},
   "outputs": [
    {
     "data": {
      "text/html": [
       "<div>\n",
       "<style scoped>\n",
       "    .dataframe tbody tr th:only-of-type {\n",
       "        vertical-align: middle;\n",
       "    }\n",
       "\n",
       "    .dataframe tbody tr th {\n",
       "        vertical-align: top;\n",
       "    }\n",
       "\n",
       "    .dataframe thead th {\n",
       "        text-align: right;\n",
       "    }\n",
       "</style>\n",
       "<table border=\"1\" class=\"dataframe\">\n",
       "  <thead>\n",
       "    <tr style=\"text-align: right;\">\n",
       "      <th></th>\n",
       "      <th>City</th>\n",
       "      <th>Lon</th>\n",
       "      <th>Lat</th>\n",
       "    </tr>\n",
       "  </thead>\n",
       "  <tbody>\n",
       "    <tr>\n",
       "      <th>0</th>\n",
       "      <td>Kota, Rajasthan</td>\n",
       "      <td>76.000893</td>\n",
       "      <td>25.196826</td>\n",
       "    </tr>\n",
       "    <tr>\n",
       "      <th>1</th>\n",
       "      <td>Hanumangarh, Rajasthan</td>\n",
       "      <td>74.298364</td>\n",
       "      <td>29.367200</td>\n",
       "    </tr>\n",
       "    <tr>\n",
       "      <th>2</th>\n",
       "      <td>Delhi NCR</td>\n",
       "      <td>77.121215</td>\n",
       "      <td>28.688244</td>\n",
       "    </tr>\n",
       "    <tr>\n",
       "      <th>3</th>\n",
       "      <td>Mumbai, Maharashtra</td>\n",
       "      <td>72.877393</td>\n",
       "      <td>19.075990</td>\n",
       "    </tr>\n",
       "  </tbody>\n",
       "</table>\n",
       "</div>"
      ],
      "text/plain": [
       "                     City        Lon        Lat\n",
       "0         Kota, Rajasthan  76.000893  25.196826\n",
       "1  Hanumangarh, Rajasthan  74.298364  29.367200\n",
       "2               Delhi NCR  77.121215  28.688244\n",
       "3     Mumbai, Maharashtra  72.877393  19.075990"
      ]
     },
     "execution_count": 7,
     "metadata": {},
     "output_type": "execute_result"
    }
   ],
   "source": [
    "# now add this column to dataframe \n",
    "df[\"Lon\"] = longitude \n",
    "df[\"Lat\"] = latitude \n",
    "  \n",
    "df "
   ]
  },
  {
   "cell_type": "code",
   "execution_count": 8,
   "metadata": {},
   "outputs": [
    {
     "data": {
      "text/plain": [
       "[[25.1968256, 76.00089330885552],\n",
       " [29.367200150000002, 74.29836365065901],\n",
       " [28.6882438, 77.1212148],\n",
       " [19.0759899, 72.8773928]]"
      ]
     },
     "execution_count": 8,
     "metadata": {},
     "output_type": "execute_result"
    }
   ],
   "source": [
    "locations = df[['Lat', 'Lon']]\n",
    "locationlist = locations.values.tolist()\n",
    "len(locationlist)\n",
    "locationlist"
   ]
  },
  {
   "cell_type": "code",
   "execution_count": 8,
   "metadata": {},
   "outputs": [
    {
     "name": "stderr",
     "output_type": "stream",
     "text": [
      "C:\\Users\\dell\\Anaconda3\\lib\\site-packages\\gmplot\\color.py:194: UserWarning: Color '# FF0000' isn't supported.\n",
      "  warnings.warn(\"Color '%s' isn't supported.\" % color)\n"
     ]
    }
   ],
   "source": [
    "#plotting routes on map\n",
    "\n",
    "# import gmplot package \n",
    "import gmplot \n",
    "\n",
    "#latitude_list = [ 30.3358376, 30.307977, 30.3216419 ] \n",
    "#longitude_list = [ 77.8701919, 78.048457, 78.0413095 ] \n",
    "\n",
    "gmap3 = gmplot.GoogleMapPlotter(df['Lat'][0], \n",
    "\t\t\t\t\t\t\t\tdf['Lon'][0], 13) \n",
    "\n",
    "# scatter method of map object \n",
    "# scatter points on the google map \n",
    "gmap3.scatter( df['Lat'], df['Lon'], '# FF0000', \n",
    "\t\t\t\t\t\t\tsize = 40, marker = False ) \n",
    "\n",
    "# Plot method Draw a line in \n",
    "# between given coordinates \n",
    "gmap3.plot(df['Lat'], df['Lon'], \n",
    "\t\t'cornflowerblue', edge_width = 2.5) \n",
    "\n",
    "gmap3.draw( \"C:\\\\Users\\\\dell\\\\Desktop\\\\map13.html\" ) \n"
   ]
  },
  {
   "cell_type": "code",
   "execution_count": 1,
   "metadata": {},
   "outputs": [],
   "source": [
    "#calculating distance using haversine distance\n",
    "#formula used to calculate distance travelled\n",
    "def haversine_distance(lat1, lon1, lat2, lon2):\n",
    "   r = 6371\n",
    "   phi1 = np.radians(lat1)\n",
    "   phi2 = np.radians(lat2)\n",
    "   delta_phi = np.radians(lat2 - lat1)\n",
    "   delta_lambda = np.radians(lon2 - lon1)\n",
    "   a = np.sin(delta_phi / 2)**2 + np.cos(phi1) * np.cos(phi2) *   np.sin(delta_lambda / 2)**2\n",
    "   res = r * (2 * np.arctan2(np.sqrt(a), np.sqrt(1 - a)))\n",
    "   return np.round(res, 2)"
   ]
  },
  {
   "cell_type": "code",
   "execution_count": 10,
   "metadata": {},
   "outputs": [],
   "source": [
    "#providing the longitude followed by the latitude of initial location\n",
    "start_lat, start_lon = 76.000893, 25.189658"
   ]
  },
  {
   "cell_type": "code",
   "execution_count": 11,
   "metadata": {},
   "outputs": [
    {
     "data": {
      "text/plain": [
       "[6286.64, 5796.78, 5934.55, 6882.93]"
      ]
     },
     "execution_count": 11,
     "metadata": {},
     "output_type": "execute_result"
    }
   ],
   "source": [
    "#this function will give the distance from the specified initial location\n",
    "distances_km = []\n",
    "for row in df.itertuples(index=False):\n",
    "   distances_km.append(\n",
    "       haversine_distance(start_lat, start_lon, row.Lat, row.Lon)\n",
    "   )\n",
    "\n",
    "distances_km"
   ]
  },
  {
   "cell_type": "code",
   "execution_count": 15,
   "metadata": {},
   "outputs": [
    {
     "data": {
      "text/html": [
       "<div>\n",
       "<style scoped>\n",
       "    .dataframe tbody tr th:only-of-type {\n",
       "        vertical-align: middle;\n",
       "    }\n",
       "\n",
       "    .dataframe tbody tr th {\n",
       "        vertical-align: top;\n",
       "    }\n",
       "\n",
       "    .dataframe thead th {\n",
       "        text-align: right;\n",
       "    }\n",
       "</style>\n",
       "<table border=\"1\" class=\"dataframe\">\n",
       "  <thead>\n",
       "    <tr style=\"text-align: right;\">\n",
       "      <th></th>\n",
       "      <th>City</th>\n",
       "      <th>Lon</th>\n",
       "      <th>Lat</th>\n",
       "      <th>DistanceFromKOTA</th>\n",
       "    </tr>\n",
       "  </thead>\n",
       "  <tbody>\n",
       "    <tr>\n",
       "      <th>0</th>\n",
       "      <td>Kota, Rajasthan</td>\n",
       "      <td>76.000893</td>\n",
       "      <td>25.196826</td>\n",
       "      <td>6286.64</td>\n",
       "    </tr>\n",
       "    <tr>\n",
       "      <th>1</th>\n",
       "      <td>Hanumangarh, Rajasthan</td>\n",
       "      <td>74.298364</td>\n",
       "      <td>29.367200</td>\n",
       "      <td>5796.78</td>\n",
       "    </tr>\n",
       "    <tr>\n",
       "      <th>2</th>\n",
       "      <td>Delhi NCR</td>\n",
       "      <td>77.121215</td>\n",
       "      <td>28.688244</td>\n",
       "      <td>5934.55</td>\n",
       "    </tr>\n",
       "    <tr>\n",
       "      <th>3</th>\n",
       "      <td>Mumbai, Maharashtra</td>\n",
       "      <td>72.877393</td>\n",
       "      <td>19.075990</td>\n",
       "      <td>6882.93</td>\n",
       "    </tr>\n",
       "  </tbody>\n",
       "</table>\n",
       "</div>"
      ],
      "text/plain": [
       "                     City        Lon        Lat  DistanceFromKOTA\n",
       "0         Kota, Rajasthan  76.000893  25.196826           6286.64\n",
       "1  Hanumangarh, Rajasthan  74.298364  29.367200           5796.78\n",
       "2               Delhi NCR  77.121215  28.688244           5934.55\n",
       "3     Mumbai, Maharashtra  72.877393  19.075990           6882.93"
      ]
     },
     "execution_count": 15,
     "metadata": {},
     "output_type": "execute_result"
    }
   ],
   "source": [
    "df['DistanceFromKOTA'] = distances_km\n",
    "df"
   ]
  }
 ],
 "metadata": {
  "kernelspec": {
   "display_name": "Python 3",
   "language": "python",
   "name": "python3"
  },
  "language_info": {
   "codemirror_mode": {
    "name": "ipython",
    "version": 3
   },
   "file_extension": ".py",
   "mimetype": "text/x-python",
   "name": "python",
   "nbconvert_exporter": "python",
   "pygments_lexer": "ipython3",
   "version": "3.6.5"
  }
 },
 "nbformat": 4,
 "nbformat_minor": 4
}
