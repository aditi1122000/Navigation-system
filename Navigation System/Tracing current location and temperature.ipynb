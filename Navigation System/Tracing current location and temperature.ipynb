{
 "cells": [
  {
   "cell_type": "code",
   "execution_count": 1,
   "metadata": {},
   "outputs": [],
   "source": [
    "#This is a system which provides you with the current location of the user using its latitude and longitude\n",
    "#as its location and plotting it on the map."
   ]
  },
  {
   "cell_type": "code",
   "execution_count": 3,
   "metadata": {},
   "outputs": [
    {
     "name": "stdout",
     "output_type": "stream",
     "text": [
      "{\n",
      "  \"ip\": \"157.37.147.92\",\n",
      "  \"city\": \"Jaipur\",\n",
      "  \"region\": \"Rajasthan\",\n",
      "  \"country\": \"IN\",\n",
      "  \"loc\": \"26.9196,75.7878\",\n",
      "  \"org\": \"AS55836 Reliance Jio Infocomm Limited\",\n",
      "  \"postal\": \"302001\",\n",
      "  \"timezone\": \"Asia/Kolkata\",\n",
      "  \"readme\": \"https://ipinfo.io/missingauth\"\n",
      "}\n"
     ]
    }
   ],
   "source": [
    "#importing necessary libraries\n",
    "#system information\n",
    "import requests\n",
    "import json\n",
    "req = requests.get('https://ipinfo.io/')\n",
    "print(req.text)\n",
    "#this is my current information."
   ]
  },
  {
   "cell_type": "code",
   "execution_count": 4,
   "metadata": {},
   "outputs": [
    {
     "name": "stdout",
     "output_type": "stream",
     "text": [
      "{\n",
      "  \"ip\": \"157.37.147.92\",\n",
      "  \"city\": \"Jaipur\",\n",
      "  \"region\": \"Rajasthan\",\n",
      "  \"country\": \"IN\",\n",
      "  \"loc\": \"26.9196,75.7878\",\n",
      "  \"org\": \"AS55836 Reliance Jio Infocomm Limited\",\n",
      "  \"postal\": \"302001\",\n",
      "  \"timezone\": \"Asia/Kolkata\",\n",
      "  \"readme\": \"https://ipinfo.io/missingauth\"\n",
      "}\n",
      "\n",
      "\n",
      "This is my current location:  26.9196,75.7878 Jaipur\n"
     ]
    }
   ],
   "source": [
    "#converting the python dictionary above into a JSON string that can be written into a file.\n",
    "\n",
    "data = requests.get('https://ipinfo.io/').json()\n",
    "print(req.text)\n",
    "print()\n",
    "print()\n",
    "print('This is my current location: ',data[\"loc\"], data[\"city\"])"
   ]
  },
  {
   "cell_type": "code",
   "execution_count": 5,
   "metadata": {},
   "outputs": [],
   "source": [
    "# using map() to \n",
    "# perform conversion from strings to list of float values.\n",
    "data_ = list(map(float,data['loc'].split(',')))\n",
    "#data[0], data[1]"
   ]
  },
  {
   "cell_type": "code",
   "execution_count": 6,
   "metadata": {},
   "outputs": [
    {
     "data": {
      "text/plain": [
       "{'ip': '157.37.147.92',\n",
       " 'is_eu': False,\n",
       " 'city': 'Jaipur',\n",
       " 'region': 'Rajasthan',\n",
       " 'region_code': 'RJ',\n",
       " 'country_name': 'India',\n",
       " 'country_code': 'IN',\n",
       " 'continent_name': 'Asia',\n",
       " 'continent_code': 'AS',\n",
       " 'latitude': 26.9204,\n",
       " 'longitude': 75.7882,\n",
       " 'postal': '302012',\n",
       " 'calling_code': '91',\n",
       " 'flag': 'https://ipdata.co/flags/in.png',\n",
       " 'emoji_flag': '🇮🇳',\n",
       " 'emoji_unicode': 'U+1F1EE U+1F1F3',\n",
       " 'asn': {'asn': 'AS55836',\n",
       "  'name': 'Reliance Jio Infocomm Limited',\n",
       "  'domain': 'jio.com',\n",
       "  'route': '157.37.128.0/18',\n",
       "  'type': 'isp'},\n",
       " 'carrier': {'name': 'Reliance', 'mcc': '404', 'mnc': '09'},\n",
       " 'languages': [{'name': 'Hindi', 'native': 'हिन्दी'},\n",
       "  {'name': 'English', 'native': 'English'}],\n",
       " 'currency': {'name': 'Indian Rupee',\n",
       "  'code': 'INR',\n",
       "  'symbol': 'Rs',\n",
       "  'native': 'টকা',\n",
       "  'plural': 'Indian rupees'},\n",
       " 'time_zone': {'name': 'Asia/Kolkata',\n",
       "  'abbr': 'IST',\n",
       "  'offset': '+0530',\n",
       "  'is_dst': False,\n",
       "  'current_time': '2020-08-02T23:40:27.290391+05:30'},\n",
       " 'threat': {'is_tor': False,\n",
       "  'is_proxy': False,\n",
       "  'is_anonymous': False,\n",
       "  'is_known_attacker': False,\n",
       "  'is_known_abuser': False,\n",
       "  'is_threat': False,\n",
       "  'is_bogon': False},\n",
       " 'count': '1530'}"
      ]
     },
     "execution_count": 6,
     "metadata": {},
     "output_type": "execute_result"
    }
   ],
   "source": [
    "#for more detailed information we can execute this command\n",
    "\n",
    "import requests\n",
    "res = requests.get('https://api.ipdata.co?api-key=test').json()\n",
    "res"
   ]
  },
  {
   "cell_type": "code",
   "execution_count": 7,
   "metadata": {},
   "outputs": [
    {
     "data": {
      "text/plain": [
       "<folium.map.LayerControl at 0x2060fa9f8d0>"
      ]
     },
     "execution_count": 7,
     "metadata": {},
     "output_type": "execute_result"
    }
   ],
   "source": [
    "#plotting data on map with different kinds of plane using folium\n",
    "import folium\n",
    "from branca.element import Figure\n",
    "mymap = folium.Map(location=[data_[0], data_[1]], zoom_start=6)\n",
    "folium.Marker((data_[0], data_[1]), popup=data[\"city\"]).add_to(mymap)\n",
    "fig2=Figure(width=550,height=350)\n",
    "fig2.add_child(mymap)\n",
    "folium.TileLayer('Stamen Terrain').add_to(mymap)\n",
    "folium.TileLayer('Stamen Toner').add_to(mymap)\n",
    "folium.TileLayer('Stamen Water Color').add_to(mymap)\n",
    "folium.TileLayer('cartodbpositron').add_to(mymap)\n",
    "folium.TileLayer('cartodbdark_matter').add_to(mymap)\n",
    "folium.LayerControl().add_to(mymap)"
   ]
  },
  {
   "cell_type": "code",
   "execution_count": 11,
   "metadata": {},
   "outputs": [
    {
     "data": {
      "text/html": [
       "<iframe src=\"about:blank\" width=\"550\" height=\"350\"style=\"border:none !important;\" data-html=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 onload=\"this.contentDocument.open();this.contentDocument.write(atob(this.getAttribute('data-html')));this.contentDocument.close();\" \"allowfullscreen\" \"webkitallowfullscreen\" \"mozallowfullscreen\"></iframe>"
      ],
      "text/plain": [
       "<folium.folium.Map at 0x2067dd41198>"
      ]
     },
     "execution_count": 11,
     "metadata": {},
     "output_type": "execute_result"
    }
   ],
   "source": [
    "#mapping location\n",
    "mymap"
   ]
  },
  {
   "cell_type": "code",
   "execution_count": 13,
   "metadata": {},
   "outputs": [
    {
     "data": {
      "text/plain": [
       "{'region': 'Jaipur, Rajasthan',\n",
       " 'temp_now': '30',\n",
       " 'dayhour': 'Sunday, 11:00 pm',\n",
       " 'weather_now': 'Haze',\n",
       " 'precipitation': '3%',\n",
       " 'humidity': '72%',\n",
       " 'wind': '8 km/h',\n",
       " 'next_days': [{'name': 'Sunday',\n",
       "   'weather': 'Partly cloudy',\n",
       "   'max_temp': '36',\n",
       "   'min_temp': '27'},\n",
       "  {'name': 'Monday',\n",
       "   'weather': 'Partly cloudy',\n",
       "   'max_temp': '36',\n",
       "   'min_temp': '27'},\n",
       "  {'name': 'Tuesday',\n",
       "   'weather': 'Partly cloudy',\n",
       "   'max_temp': '34',\n",
       "   'min_temp': '27'},\n",
       "  {'name': 'Wednesday',\n",
       "   'weather': 'Partly cloudy',\n",
       "   'max_temp': '35',\n",
       "   'min_temp': '27'},\n",
       "  {'name': 'Thursday',\n",
       "   'weather': 'Partly cloudy',\n",
       "   'max_temp': '33',\n",
       "   'min_temp': '27'},\n",
       "  {'name': 'Friday',\n",
       "   'weather': 'Partly cloudy',\n",
       "   'max_temp': '32',\n",
       "   'min_temp': '26'},\n",
       "  {'name': 'Saturday',\n",
       "   'weather': 'Partly cloudy',\n",
       "   'max_temp': '33',\n",
       "   'min_temp': '27'},\n",
       "  {'name': 'Sunday',\n",
       "   'weather': 'Partly cloudy',\n",
       "   'max_temp': '33',\n",
       "   'min_temp': '27'}]}"
      ]
     },
     "execution_count": 13,
     "metadata": {},
     "output_type": "execute_result"
    }
   ],
   "source": [
    "#Since we are not using any google api's, so we try to scrape weather data from the browser\n",
    "from bs4 import BeautifulSoup as bs\n",
    "import requests\n",
    "#defining browsers\n",
    "USER_AGENT = \"Mozilla/5.0 (X11; Linux x86_64) AppleWebKit/537.36 (KHTML, like Gecko) Chrome/44.0.2403.157 Safari/537.36\"\n",
    "# UK english\n",
    "LANGUAGE = \"en-UK,en;q=0.5\"\n",
    "\n",
    "def get_weather_data(url):\n",
    "    session = requests.Session()\n",
    "    session.headers['User-Agent'] = USER_AGENT\n",
    "    session.headers['Accept-Language'] = LANGUAGE\n",
    "    session.headers['Content-Language'] = LANGUAGE\n",
    "    html = session.get(url)\n",
    "    # create a new soup\n",
    "    soup = bs(html.text, \"html.parser\")\n",
    "    # store all results on this dictionary\n",
    "    result = {}\n",
    "    # extract region\n",
    "    result['region'] = soup.find(\"div\", attrs={\"id\": \"wob_loc\"}).text\n",
    "    # extract temperature now\n",
    "    result['temp_now'] = soup.find(\"span\", attrs={\"id\": \"wob_tm\"}).text\n",
    "    # get the day and hour now\n",
    "    result['dayhour'] = soup.find(\"div\", attrs={\"id\": \"wob_dts\"}).text\n",
    "    # get the actual weather\n",
    "    result['weather_now'] = soup.find(\"span\", attrs={\"id\": \"wob_dc\"}).text\n",
    "    # get the precipitation\n",
    "    result['precipitation'] = soup.find(\"span\", attrs={\"id\": \"wob_pp\"}).text\n",
    "    # get the % of humidity\n",
    "    result['humidity'] = soup.find(\"span\", attrs={\"id\": \"wob_hm\"}).text\n",
    "    # extract the wind\n",
    "    result['wind'] = soup.find(\"span\", attrs={\"id\": \"wob_ws\"}).text\n",
    "    # get next few days' weather\n",
    "    next_days = []\n",
    "    days = soup.find(\"div\", attrs={\"id\": \"wob_dp\"})\n",
    "    for day in days.findAll(\"div\", attrs={\"class\": \"wob_df\"}):\n",
    "        # extract the name of the day\n",
    "        day_name = day.find(\"div\", attrs={\"class\": \"QrNVmd\"}).attrs['aria-label']\n",
    "        # get weather status for that day\n",
    "        weather = day.find(\"img\").attrs[\"alt\"]\n",
    "        temp = day.findAll(\"span\", {\"class\": \"wob_t\"})\n",
    "        # maximum temparature in Celsius, use temp[1].text if you want fahrenheit\n",
    "        max_temp = temp[0].text\n",
    "        # minimum temparature in Celsius, use temp[3].text if you want fahrenheit\n",
    "        min_temp = temp[2].text\n",
    "        next_days.append({\"name\": day_name, \"weather\": weather, \"max_temp\": max_temp, \"min_temp\": min_temp})\n",
    "    # append to result\n",
    "    result['next_days'] = next_days\n",
    "    return result\n",
    "    \n",
    "loc_to_find = \" https://www.google.com/search?q=jaipur+weather&oq=\"+data[\"city\"]+\"+weather&aqs=chrome..69i57.15052j0j1&sourceid=chrome&ie=UTF-8\"+data[\"city\"]\n",
    "get_weather_data(loc_to_find)"
   ]
  }
 ],
 "metadata": {
  "kernelspec": {
   "display_name": "Python 3",
   "language": "python",
   "name": "python3"
  },
  "language_info": {
   "codemirror_mode": {
    "name": "ipython",
    "version": 3
   },
   "file_extension": ".py",
   "mimetype": "text/x-python",
   "name": "python",
   "nbconvert_exporter": "python",
   "pygments_lexer": "ipython3",
   "version": "3.6.5"
  }
 },
 "nbformat": 4,
 "nbformat_minor": 4
}
